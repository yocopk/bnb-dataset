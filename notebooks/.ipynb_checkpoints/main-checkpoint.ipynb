{
 "cells": [
  {
   "cell_type": "code",
   "execution_count": 1,
   "id": "7da0a14d-ec11-4885-8af0-89d49998746c",
   "metadata": {},
   "outputs": [],
   "source": [
    "# IMPORTIAMO LE LIBRERIE \n",
    "import numpy as np\n",
    "import pandas as pd\n",
    "import matplotlib as mlp\n",
    "import matplotlib.pyplot as plt\n",
    "# import seaborn as sns"
   ]
  },
  {
   "cell_type": "code",
   "execution_count": 2,
   "id": "14031572-2036-4d48-b1a8-df2d22e32f2d",
   "metadata": {},
   "outputs": [],
   "source": [
    "#LEGGIAMO IL CSV E LO ASSEGNAMO ALLA VARIABILE\n",
    "df = pd.read_csv('listings.csv')"
   ]
  },
  {
   "cell_type": "code",
   "execution_count": 3,
   "id": "9fe28d5b-c305-47ae-a5d7-66da4fb2241d",
   "metadata": {},
   "outputs": [
    {
     "name": "stdout",
     "output_type": "stream",
     "text": [
      "<class 'pandas.core.frame.DataFrame'>\n",
      "RangeIndex: 52472 entries, 0 to 52471\n",
      "Data columns (total 79 columns):\n",
      " #   Column                                        Non-Null Count  Dtype  \n",
      "---  ------                                        --------------  -----  \n",
      " 0   id                                            52472 non-null  int64  \n",
      " 1   listing_url                                   52472 non-null  object \n",
      " 2   scrape_id                                     52472 non-null  int64  \n",
      " 3   last_scraped                                  52472 non-null  object \n",
      " 4   source                                        52472 non-null  object \n",
      " 5   name                                          52472 non-null  object \n",
      " 6   description                                   50959 non-null  object \n",
      " 7   neighborhood_overview                         23073 non-null  object \n",
      " 8   picture_url                                   52472 non-null  object \n",
      " 9   host_id                                       52472 non-null  int64  \n",
      " 10  host_url                                      52472 non-null  object \n",
      " 11  host_name                                     52461 non-null  object \n",
      " 12  host_since                                    52461 non-null  object \n",
      " 13  host_location                                 35202 non-null  object \n",
      " 14  host_about                                    20417 non-null  object \n",
      " 15  host_response_time                            36708 non-null  object \n",
      " 16  host_response_rate                            36708 non-null  object \n",
      " 17  host_acceptance_rate                          43933 non-null  object \n",
      " 18  host_is_superhost                             51544 non-null  object \n",
      " 19  host_thumbnail_url                            52461 non-null  object \n",
      " 20  host_picture_url                              52461 non-null  object \n",
      " 21  host_neighbourhood                            1786 non-null   object \n",
      " 22  host_listings_count                           52461 non-null  float64\n",
      " 23  host_total_listings_count                     52461 non-null  float64\n",
      " 24  host_verifications                            52461 non-null  object \n",
      " 25  host_has_profile_pic                          52461 non-null  object \n",
      " 26  host_identity_verified                        52461 non-null  object \n",
      " 27  neighbourhood                                 23074 non-null  object \n",
      " 28  neighbourhood_cleansed                        52472 non-null  object \n",
      " 29  neighbourhood_group_cleansed                  0 non-null      float64\n",
      " 30  latitude                                      52472 non-null  float64\n",
      " 31  longitude                                     52472 non-null  float64\n",
      " 32  property_type                                 52472 non-null  object \n",
      " 33  room_type                                     52472 non-null  object \n",
      " 34  accommodates                                  52472 non-null  int64  \n",
      " 35  bathrooms                                     47521 non-null  float64\n",
      " 36  bathrooms_text                                52422 non-null  object \n",
      " 37  bedrooms                                      51668 non-null  float64\n",
      " 38  beds                                          47506 non-null  float64\n",
      " 39  amenities                                     52472 non-null  object \n",
      " 40  price                                         47540 non-null  object \n",
      " 41  minimum_nights                                52472 non-null  int64  \n",
      " 42  maximum_nights                                52472 non-null  int64  \n",
      " 43  minimum_minimum_nights                        52472 non-null  int64  \n",
      " 44  maximum_minimum_nights                        52472 non-null  int64  \n",
      " 45  minimum_maximum_nights                        52472 non-null  int64  \n",
      " 46  maximum_maximum_nights                        52472 non-null  int64  \n",
      " 47  minimum_nights_avg_ntm                        52472 non-null  float64\n",
      " 48  maximum_nights_avg_ntm                        52472 non-null  float64\n",
      " 49  calendar_updated                              0 non-null      float64\n",
      " 50  has_availability                              50969 non-null  object \n",
      " 51  availability_30                               52472 non-null  int64  \n",
      " 52  availability_60                               52472 non-null  int64  \n",
      " 53  availability_90                               52472 non-null  int64  \n",
      " 54  availability_365                              52472 non-null  int64  \n",
      " 55  calendar_last_scraped                         52472 non-null  object \n",
      " 56  number_of_reviews                             52472 non-null  int64  \n",
      " 57  number_of_reviews_ltm                         52472 non-null  int64  \n",
      " 58  number_of_reviews_l30d                        52472 non-null  int64  \n",
      " 59  availability_eoy                              52472 non-null  int64  \n",
      " 60  number_of_reviews_ly                          52472 non-null  int64  \n",
      " 61  estimated_occupancy_l365d                     52472 non-null  int64  \n",
      " 62  estimated_revenue_l365d                       47540 non-null  float64\n",
      " 63  first_review                                  36517 non-null  object \n",
      " 64  last_review                                   36517 non-null  object \n",
      " 65  review_scores_rating                          36517 non-null  float64\n",
      " 66  review_scores_accuracy                        36510 non-null  float64\n",
      " 67  review_scores_cleanliness                     36511 non-null  float64\n",
      " 68  review_scores_checkin                         36506 non-null  float64\n",
      " 69  review_scores_communication                   36507 non-null  float64\n",
      " 70  review_scores_location                        36506 non-null  float64\n",
      " 71  review_scores_value                           36504 non-null  float64\n",
      " 72  license                                       42205 non-null  object \n",
      " 73  instant_bookable                              52472 non-null  object \n",
      " 74  calculated_host_listings_count                52472 non-null  int64  \n",
      " 75  calculated_host_listings_count_entire_homes   52472 non-null  int64  \n",
      " 76  calculated_host_listings_count_private_rooms  52472 non-null  int64  \n",
      " 77  calculated_host_listings_count_shared_rooms   52472 non-null  int64  \n",
      " 78  reviews_per_month                             36517 non-null  float64\n",
      "dtypes: float64(20), int64(24), object(35)\n",
      "memory usage: 31.6+ MB\n"
     ]
    }
   ],
   "source": [
    "#CONTROLLIAMO IL DATASET \n",
    "df.shape\n",
    "df.columns\n",
    "df.info()"
   ]
  },
  {
   "cell_type": "code",
   "execution_count": 4,
   "id": "9eba48c3-8ad3-48be-b6aa-2c43e2e5f5a5",
   "metadata": {},
   "outputs": [],
   "source": [
    "# CERCHIAMO E SELEZIONIAMO IL TERMINE 'PALERMO' NELLE COLONNE \n",
    "df_neighbourhood_palermo = df[df['neighbourhood'].str.contains('Palermo', case=False, na=False)]\n",
    "df_neighbourhood_cleansed_palermo = df[df['neighbourhood_cleansed'].str.contains('Palermo', case=False, na=False)]"
   ]
  },
  {
   "cell_type": "code",
   "execution_count": 5,
   "id": "21c6c19b-adba-44d6-a59b-b9697ba420ae",
   "metadata": {},
   "outputs": [],
   "source": [
    "# CONCATENIAMO I RISULTATI E ELIMINIAMO I DUPLICATI\n",
    "df_palermo = pd.concat([df_neighbourhood_palermo, df_neighbourhood_cleansed_palermo], ignore_index=True).drop_duplicates();"
   ]
  },
  {
   "cell_type": "code",
   "execution_count": 6,
   "id": "7a87765b-5730-4d07-bb42-2b4936c5cd14",
   "metadata": {},
   "outputs": [
    {
     "data": {
      "text/plain": [
       "(7033, 79)"
      ]
     },
     "execution_count": 6,
     "metadata": {},
     "output_type": "execute_result"
    }
   ],
   "source": [
    "df_palermo.shape"
   ]
  },
  {
   "cell_type": "code",
   "execution_count": null,
   "id": "11563c0d-cf51-4d8d-9a85-e52e6ae803e8",
   "metadata": {},
   "outputs": [],
   "source": []
  },
  {
   "cell_type": "code",
   "execution_count": 7,
   "id": "02103ee0-d454-45f4-a826-808a90123cd6",
   "metadata": {},
   "outputs": [
    {
     "ename": "NameError",
     "evalue": "name 'sns' is not defined",
     "output_type": "error",
     "traceback": [
      "\u001b[31m---------------------------------------------------------------------------\u001b[39m",
      "\u001b[31mNameError\u001b[39m                                 Traceback (most recent call last)",
      "\u001b[36mCell\u001b[39m\u001b[36m \u001b[39m\u001b[32mIn[7]\u001b[39m\u001b[32m, line 2\u001b[39m\n\u001b[32m      1\u001b[39m \u001b[38;5;66;03m# GRAFICO SULLE COLONNE NULLE\u001b[39;00m\n\u001b[32m----> \u001b[39m\u001b[32m2\u001b[39m \u001b[43msns\u001b[49m.heatmap(df_palermo.isnull(), yticklabels = \u001b[38;5;28;01mFalse\u001b[39;00m)\n",
      "\u001b[31mNameError\u001b[39m: name 'sns' is not defined"
     ]
    }
   ],
   "source": [
    "# GRAFICO SULLE COLONNE NULLE\n",
    "sns.heatmap(df_palermo.isnull(), yticklabels = False)"
   ]
  },
  {
   "cell_type": "code",
   "execution_count": 8,
   "id": "e59a4802-393c-4e2d-9133-557eefe2f82c",
   "metadata": {},
   "outputs": [],
   "source": [
    "#CONTROLLIAMO QUANTITATIVAMENTE LE CELLE VUOTE\n",
    "null = df_palermo.isnull().sum()\n",
    "\n",
    "with open(\"null.txt\", \"w\", encoding=\"utf-8\") as f: \n",
    "    f.write(null.to_string());"
   ]
  },
  {
   "cell_type": "code",
   "execution_count": 9,
   "id": "a45bc8e5-88b4-4c88-91b5-51d6f2ddfc8a",
   "metadata": {},
   "outputs": [
    {
     "name": "stdout",
     "output_type": "stream",
     "text": [
      "<class 'pandas.core.frame.DataFrame'>\n",
      "Index: 7033 entries, 0 to 10510\n",
      "Data columns (total 79 columns):\n",
      " #   Column                                        Non-Null Count  Dtype  \n",
      "---  ------                                        --------------  -----  \n",
      " 0   id                                            7033 non-null   int64  \n",
      " 1   listing_url                                   7033 non-null   object \n",
      " 2   scrape_id                                     7033 non-null   int64  \n",
      " 3   last_scraped                                  7033 non-null   object \n",
      " 4   source                                        7033 non-null   object \n",
      " 5   name                                          7033 non-null   object \n",
      " 6   description                                   6882 non-null   object \n",
      " 7   neighborhood_overview                         3559 non-null   object \n",
      " 8   picture_url                                   7033 non-null   object \n",
      " 9   host_id                                       7033 non-null   int64  \n",
      " 10  host_url                                      7033 non-null   object \n",
      " 11  host_name                                     7033 non-null   object \n",
      " 12  host_since                                    7033 non-null   object \n",
      " 13  host_location                                 4992 non-null   object \n",
      " 14  host_about                                    2844 non-null   object \n",
      " 15  host_response_time                            5274 non-null   object \n",
      " 16  host_response_rate                            5274 non-null   object \n",
      " 17  host_acceptance_rate                          6209 non-null   object \n",
      " 18  host_is_superhost                             6839 non-null   object \n",
      " 19  host_thumbnail_url                            7033 non-null   object \n",
      " 20  host_picture_url                              7033 non-null   object \n",
      " 21  host_neighbourhood                            93 non-null     object \n",
      " 22  host_listings_count                           7033 non-null   float64\n",
      " 23  host_total_listings_count                     7033 non-null   float64\n",
      " 24  host_verifications                            7033 non-null   object \n",
      " 25  host_has_profile_pic                          7033 non-null   object \n",
      " 26  host_identity_verified                        7033 non-null   object \n",
      " 27  neighbourhood                                 3559 non-null   object \n",
      " 28  neighbourhood_cleansed                        7033 non-null   object \n",
      " 29  neighbourhood_group_cleansed                  0 non-null      float64\n",
      " 30  latitude                                      7033 non-null   float64\n",
      " 31  longitude                                     7033 non-null   float64\n",
      " 32  property_type                                 7033 non-null   object \n",
      " 33  room_type                                     7033 non-null   object \n",
      " 34  accommodates                                  7033 non-null   int64  \n",
      " 35  bathrooms                                     6580 non-null   float64\n",
      " 36  bathrooms_text                                7032 non-null   object \n",
      " 37  bedrooms                                      6947 non-null   float64\n",
      " 38  beds                                          6577 non-null   float64\n",
      " 39  amenities                                     7033 non-null   object \n",
      " 40  price                                         6581 non-null   object \n",
      " 41  minimum_nights                                7033 non-null   int64  \n",
      " 42  maximum_nights                                7033 non-null   int64  \n",
      " 43  minimum_minimum_nights                        7033 non-null   int64  \n",
      " 44  maximum_minimum_nights                        7033 non-null   int64  \n",
      " 45  minimum_maximum_nights                        7033 non-null   int64  \n",
      " 46  maximum_maximum_nights                        7033 non-null   int64  \n",
      " 47  minimum_nights_avg_ntm                        7033 non-null   float64\n",
      " 48  maximum_nights_avg_ntm                        7033 non-null   float64\n",
      " 49  calendar_updated                              0 non-null      float64\n",
      " 50  has_availability                              6927 non-null   object \n",
      " 51  availability_30                               7033 non-null   int64  \n",
      " 52  availability_60                               7033 non-null   int64  \n",
      " 53  availability_90                               7033 non-null   int64  \n",
      " 54  availability_365                              7033 non-null   int64  \n",
      " 55  calendar_last_scraped                         7033 non-null   object \n",
      " 56  number_of_reviews                             7033 non-null   int64  \n",
      " 57  number_of_reviews_ltm                         7033 non-null   int64  \n",
      " 58  number_of_reviews_l30d                        7033 non-null   int64  \n",
      " 59  availability_eoy                              7033 non-null   int64  \n",
      " 60  number_of_reviews_ly                          7033 non-null   int64  \n",
      " 61  estimated_occupancy_l365d                     7033 non-null   int64  \n",
      " 62  estimated_revenue_l365d                       6581 non-null   float64\n",
      " 63  first_review                                  5401 non-null   object \n",
      " 64  last_review                                   5401 non-null   object \n",
      " 65  review_scores_rating                          5401 non-null   float64\n",
      " 66  review_scores_accuracy                        5400 non-null   float64\n",
      " 67  review_scores_cleanliness                     5401 non-null   float64\n",
      " 68  review_scores_checkin                         5399 non-null   float64\n",
      " 69  review_scores_communication                   5399 non-null   float64\n",
      " 70  review_scores_location                        5399 non-null   float64\n",
      " 71  review_scores_value                           5398 non-null   float64\n",
      " 72  license                                       6200 non-null   object \n",
      " 73  instant_bookable                              7033 non-null   object \n",
      " 74  calculated_host_listings_count                7033 non-null   int64  \n",
      " 75  calculated_host_listings_count_entire_homes   7033 non-null   int64  \n",
      " 76  calculated_host_listings_count_private_rooms  7033 non-null   int64  \n",
      " 77  calculated_host_listings_count_shared_rooms   7033 non-null   int64  \n",
      " 78  reviews_per_month                             5401 non-null   float64\n",
      "dtypes: float64(20), int64(24), object(35)\n",
      "memory usage: 4.3+ MB\n"
     ]
    }
   ],
   "source": [
    "# CONTROLLO DEI DATI DOPO LA SCREMATURA\n",
    "df_palermo.shape\n",
    "df_palermo.columns\n",
    "df_palermo.info()"
   ]
  },
  {
   "cell_type": "code",
   "execution_count": 10,
   "id": "51625249-e805-4cf4-830f-6028b2b0aadb",
   "metadata": {},
   "outputs": [],
   "source": [
    "# CONSIDERIAMO LE COLONNE NON UTILI PER L'ANALISI DEI DATI DEL NOSTRO PROGETTO, QUINDI LE ELIMINIAMO (Pulizia dati) \n",
    "df_palermo.drop(columns=['neighbourhood_group_cleansed', 'calendar_updated', 'id',], inplace=True)"
   ]
  },
  {
   "cell_type": "code",
   "execution_count": 11,
   "id": "f84122b6-a79c-4387-890b-db0b5388dc00",
   "metadata": {},
   "outputs": [
    {
     "ename": "NameError",
     "evalue": "name 'sns' is not defined",
     "output_type": "error",
     "traceback": [
      "\u001b[31m---------------------------------------------------------------------------\u001b[39m",
      "\u001b[31mNameError\u001b[39m                                 Traceback (most recent call last)",
      "\u001b[36mCell\u001b[39m\u001b[36m \u001b[39m\u001b[32mIn[11]\u001b[39m\u001b[32m, line 1\u001b[39m\n\u001b[32m----> \u001b[39m\u001b[32m1\u001b[39m \u001b[43msns\u001b[49m.heatmap(df_palermo.isnull(), yticklabels = \u001b[38;5;28;01mFalse\u001b[39;00m)\n",
      "\u001b[31mNameError\u001b[39m: name 'sns' is not defined"
     ]
    }
   ],
   "source": [
    "# VERIFICHIAMO SE CI SONO VALORI NULLI CON SEABORN\n",
    "sns.heatmap(df_palermo.isnull(), yticklabels = False)"
   ]
  },
  {
   "cell_type": "code",
   "execution_count": 12,
   "id": "41be00fa-ab3b-4b8c-8995-2b4edc8feca4",
   "metadata": {},
   "outputs": [
    {
     "data": {
      "text/plain": [
       "(7033, 76)"
      ]
     },
     "execution_count": 12,
     "metadata": {},
     "output_type": "execute_result"
    }
   ],
   "source": [
    "df_palermo.shape"
   ]
  },
  {
   "cell_type": "code",
   "execution_count": 13,
   "id": "fac2da4a-d13e-48c1-8002-476f260236c4",
   "metadata": {},
   "outputs": [],
   "source": [
    "# TOGLIAMO LE RIGHE DOVE C'E' NaN nella colonna di Reviews per month\n",
    "df_palermo = df_palermo.dropna(subset =[\"reviews_per_month\"])"
   ]
  },
  {
   "cell_type": "code",
   "execution_count": 14,
   "id": "e8768cec-f3af-4f60-b68c-8de268245298",
   "metadata": {},
   "outputs": [
    {
     "data": {
      "text/plain": [
       "(5401, 76)"
      ]
     },
     "execution_count": 14,
     "metadata": {},
     "output_type": "execute_result"
    }
   ],
   "source": [
    "df_palermo.shape\n"
   ]
  },
  {
   "cell_type": "code",
   "execution_count": 15,
   "id": "d31d1dca-170c-45da-88e3-efd80e544e3e",
   "metadata": {},
   "outputs": [],
   "source": [
    "df_palermo.to_csv(\"listings_palermo.csv\")"
   ]
  },
  {
   "cell_type": "code",
   "execution_count": null,
   "id": "c3db36fb-72e7-4260-b092-13eb156b8d7e",
   "metadata": {},
   "outputs": [],
   "source": []
  }
 ],
 "metadata": {
  "kernelspec": {
   "display_name": "Python 3 (ipykernel)",
   "language": "python",
   "name": "python3"
  },
  "language_info": {
   "codemirror_mode": {
    "name": "ipython",
    "version": 3
   },
   "file_extension": ".py",
   "mimetype": "text/x-python",
   "name": "python",
   "nbconvert_exporter": "python",
   "pygments_lexer": "ipython3",
   "version": "3.12.5"
  }
 },
 "nbformat": 4,
 "nbformat_minor": 5
}
